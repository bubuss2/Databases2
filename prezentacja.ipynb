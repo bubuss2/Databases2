{
 "cells": [
  {
   "attachments": {},
   "cell_type": "markdown",
   "metadata": {},
   "source": [
    "# Bazy Danych 2\n",
    "\n",
    "## Databases in-memory\n",
    "\n",
    "### Wstęp\n",
    "Bazy danych \"in-memory\", czyli bazy danych przechowujące swoje dane w pamięci operacyjnej (najczęściej RAM). \n",
    "W przeciwieństwie do tradycyjnych baz danych takich jak np. SQL server czy Oracle, które domyślnie przechowują swoje dane w pamięci trwałej (lecz również posiadają mechanizmy in-memory).\n",
    "\n",
    "Istnieją bazy gdzie wszystkie dane są trzymane w pamięci operacyjnej, ale również rozwiązania hybrydowe gdzie tylko część z nich jest tak przechowywana.\n",
    "\n",
    "#### Plusy\n",
    "Trzymanie danych w pamięci RAM pozwala na znacznie krótsze czasy dostępu w porównaniu do danych trzymanych na dysku.\n",
    "W przypadku dysków obrotowych eliminowany jest tak zwany \"seek time\" czyli czas wykorzystany przez głowice na fizyczne przemieszczenie po dysku.\n",
    "\n",
    "Dla przykładu według tego [źródła](https://gist.github.com/jboner/2841832):\n",
    "Czas potrzebny na przeczytanie 1MB z pamięci wynosi: 150 mikrosekund\n",
    "\n",
    "gdzie czas potrzebny na przeczytanie 1MB z dysku twardego wynosi 20,000 mikrosekund, jest to aż 80 razy więcej!\n",
    "\n",
    "#### Problemy\n",
    "\n",
    "Jednak istnieje jeden problem związany z przechowywaniem danych w pamięci RAM, który jest ulotna. Gdy wyłączymy zasilanie, nasze dane będą utracone.\n",
    "\n",
    "Dlatego więc nie powinno wykorzystywać się baz tego typu do przechowywania ważnych danych, istnieją jednak sytuacje gdzie takie bazy są optymalnym narzędziem.\n",
    "\n",
    "Istnieją jednak mechanizmy hybrydowe pozwalające zaradzić temu problemu, np poprzez tworzenie kopii danych na dysku co jakiś czas (snapshot), zapisywanie logów transakcji (aby później odtworzyć taką bazę według tego pliku), czy nawet rozwiązania jak używanie nieulotnej pamięci operacyjnej (NVDIMM).\n",
    "\n",
    "#### Przykładowe bazy\n",
    "\n",
    "Przykładowymi bazami \"in-memory\", są np. Redis czy Memcached, są one open-source i używane w wielu firmach, instytucjach. Postaram się je pokazać w tej prezentacji przy użyciu języka Python.\n",
    "\n",
    "---\n",
    "\n",
    "### Memcached\n",
    "\n",
    "Przedstawię użycie przykładowej bazy in-memory \"Memcached\". Jest to baza powszechnie używana do tworzenia tzw. \"cache\" czyli zapamiętywania wartości zwrotnych np. odpowiedzi na requesty typu Get.\n",
    "\n",
    "Jest ona rozproszona i wielowątkowa, przez to też bardzo dobrze skalowalna poziomowo nawet do skali takich jak Google, Twitter, Wikipedia...\n",
    "\n",
    "\n",
    "Działa w architekturze klient-serwer, uruchamiany jest serwer z mapą typu key-value, gdzie klucze mają wielkość max 1mb oraz klucze/wartości muszą być bajtami.\n",
    "\n",
    "Przykładowo 1000 klientów pyta nas o średnią temperaturę w Krakowie w dniu 25.01.2023, możemy albo pytać 1000 razy API pogodowe, lub zapisać taką odpowiedź do Memcached i zwracać ją zapisaną w bazie, końcowo dla X klientów użyjemy i tak tylko 1 requesta, zapobiegając np. przekroczeniu limitu API. \n",
    "\n",
    "Jest to tak zwane użycie bazy jako cache. Gdzie zapisujemy dla jakichś kluczy wartość, aby móc szybko ją odzyskać (przy pomocy np. hashowania).\n",
    "\n",
    "#### Użycie\n",
    "\n",
    "Użyję języka Python, lecz taka baza może być używana z innymi językami.\n",
    "\n",
    "Potrzebujemy ją instalować, na Ubuntu możemy to zrobić poprzez wykonanie komendy.\n",
    "```\n",
    "sudo apt install memcached\n",
    "```\n",
    "\n",
    "Teraz zainstaluje klient do memcached dla języka Python\n",
    "```\n",
    "pip install pymemcache\n",
    "```\n",
    "\n",
    "Musimy uruchomić serwer z bazą, najlepiej w osobnym terminalu.\n",
    "```\n",
    "memcached\n",
    "```\n",
    "\n",
    "Następnie możemy zacząć pisać program wykorzystujący naszą bazę w Pythonie."
   ]
  },
  {
   "cell_type": "code",
   "execution_count": null,
   "metadata": {},
   "outputs": [
    {
     "name": "stdout",
     "output_type": "stream",
     "text": [
      "b'4'\n"
     ]
    }
   ],
   "source": [
    "from pymemcache.client import base\n",
    "\n",
    "# Tworzymy obiekt klienta, podająć localhost oraz domyślny port memcached czyli 11211\n",
    "client = base.Client(('localhost', 11211))\n",
    "\n",
    "# Ustawiamy wartość z kluczem klucz oraz wartość\n",
    "client.set(key=\"2+2\", value=4)\n",
    "\n",
    "# Teraz możemy odzyskać wartość pod tym kluczem\n",
    "print(client.get(key=\"2+2\"))"
   ]
  },
  {
   "attachments": {},
   "cell_type": "markdown",
   "metadata": {},
   "source": [
    "Powyższe użycie jest tak naprawdę całą ideą takiej bazy. Teraz każdy serwer w naszej sieci może zapytać się na porcie 11211 o to czy wiemy jaka jest wartość dla klucza \"2+2\" i dostanie odpowiedź.\n",
    "\n",
    "Klucze w memcached mają określony czas ważności, po którym znikają. (aby zapobiec przepełnieniu pamięci). Innym mechanizmem jest też wyrzucanie aktualnych danych (według różnych algorytmów np. LRU)\n",
    "\n",
    "Gdy spróbujemy uzyskać klucz który nie istnieje w bazie, nie otrzymamy żadnej wartości. A dokładnie None (w pythonie obiekt oznaczający brak wartości)."
   ]
  },
  {
   "cell_type": "code",
   "execution_count": null,
   "metadata": {},
   "outputs": [
    {
     "name": "stdout",
     "output_type": "stream",
     "text": [
      "None\n"
     ]
    }
   ],
   "source": [
    "# Szukamy wartości pod kluczem który nie istnieje w bazie\n",
    "value = client.get(key=\"1+1\")\n",
    "\n",
    "# Otrzymaliśmy None, oznacza to że nie znaleziono żadnej wartości\n",
    "print(value)"
   ]
  },
  {
   "attachments": {},
   "cell_type": "markdown",
   "metadata": {},
   "source": [
    "Możemy również ustawić wartość domyślną, która ma być zwracana gdy nie znajdziemy wartości."
   ]
  },
  {
   "cell_type": "code",
   "execution_count": null,
   "metadata": {},
   "outputs": [
    {
     "name": "stdout",
     "output_type": "stream",
     "text": [
      "Player\n"
     ]
    }
   ],
   "source": [
    "# Ustawiamy argument default jako \"Player\", taką wartość otrzymamy jeśli nie zostanie znaleziony klucz o tej nazwie w bazie.\n",
    "value = client.get(key=\"player_name\", default=\"Player\")\n",
    "\n",
    "print(value)"
   ]
  },
  {
   "attachments": {},
   "cell_type": "markdown",
   "metadata": {},
   "source": [
    "A teraz praktyczne użycie, chcemy uzyskać jakąś informację z API"
   ]
  },
  {
   "cell_type": "code",
   "execution_count": null,
   "metadata": {},
   "outputs": [
    {
     "name": "stdout",
     "output_type": "stream",
     "text": [
      "b'4'\n"
     ]
    }
   ],
   "source": [
    "def get_temperature(city: str) -> int:\n",
    "    # tutaj pytamy api, jednak dla przykładu zwracamy wartość 4\n",
    "    return 4\n",
    "\n",
    "response = client.get(key=\"Cracow\")\n",
    "\n",
    "if response is None:\n",
    "    # Jesli nie istnieje klucz w bazie, robimy query i zapisujemy odpowiedź\n",
    "    response = get_temperature(city=\"Cracow\")\n",
    "\n",
    "    # Dodajemy tą wartość do bazy danych\n",
    "    client.set(key=\"Cracow\", value=response)\n",
    "\n",
    "print(response)"
   ]
  },
  {
   "attachments": {},
   "cell_type": "markdown",
   "metadata": {},
   "source": [
    "Możemy też używać bazy jako licznik wykorzystując polecenia incr i decr"
   ]
  },
  {
   "cell_type": "code",
   "execution_count": null,
   "metadata": {},
   "outputs": [
    {
     "name": "stdout",
     "output_type": "stream",
     "text": [
      "b'0'\n",
      "b'10'\n",
      "b'8 '\n"
     ]
    }
   ],
   "source": [
    "client.set(\"Visitors\", 0)\n",
    "print(client.get(\"Visitors\"))\n",
    "\n",
    "client.incr(\"Visitors\", 10)\n",
    "print(client.get(\"Visitors\"))\n",
    "\n",
    "client.decr(\"Visitors\", 2)\n",
    "print(client.get(\"Visitors\"))"
   ]
  },
  {
   "attachments": {},
   "cell_type": "markdown",
   "metadata": {},
   "source": [
    "Możemy zadać pytanie po co takie funkcje jak powyżej, możemy przecież zrobić implementację jak poniżej. \n",
    "\n",
    "Jest jednak z tym problem, zzy jesteś w stanie go dostrzec? (Przypominam że memcached jest wielowątkowy)"
   ]
  },
  {
   "cell_type": "code",
   "execution_count": null,
   "metadata": {},
   "outputs": [],
   "source": [
    "value = client.get(\"Visitors\")\n",
    "if not value:\n",
    "    value = 1\n",
    "else:\n",
    "    value += 1\n",
    "\n",
    "client.set(\"Visitors\", value)"
   ]
  },
  {
   "attachments": {},
   "cell_type": "markdown",
   "metadata": {},
   "source": [
    "Opis problemu znajduję sie poniżej."
   ]
  },
  {
   "attachments": {},
   "cell_type": "markdown",
   "metadata": {},
   "source": [
    "Problemem jest atomowość operacji, jako że memcached jest wielowątkowy i rozproszony, może być podłączonych do niego wielu klientów jednocześnie.\n",
    "\n",
    "Sprawa to problem gdy jednocześnie wielu klientów zmieni value w powyższy sposób, stanie się tak zwane race condition i wartość może zostać nieuwzględniona. Operacje incr i decr zapobiegają temu.\n",
    "\n",
    "Dla wartości nie intowych gdzie incr i decr nie zadziała możemy użyć innego mechanizmu, gdzie zwracany przy set jest specjalny obiekt który potem przekazujemy w get, jest to jednak bardziej skomplikowane i pominę to w tej prezentacji. (Informacje o tym można znaleźć pod nazwą \"memcached cas\")"
   ]
  },
  {
   "attachments": {},
   "cell_type": "markdown",
   "metadata": {},
   "source": [
    "#### Podsumowanie\n",
    "\n",
    "Memcached jest prostym w użyciu, lecz potężnym narzędziem gdy możemy zapisywać odpowiedzi, przydatne gdy np. tworzymy jakis serwis gdzie dane są bardzo często odczytywane.\n",
    "\n",
    "---\n",
    "\n",
    "### Redis\n",
    "\n",
    "Przejdziemy teraz do innej bazy danych typu in-memory, jest ona jednak bardziej skomplikowana. Idea jednak jest podobna, Redis też może zostać użyty jako cache, ma jednak znacznie więcej zastosowań takie jak np .kolejkowanie tasków (np. do asynchronicznego programowania). Jednak skupię się na użyciu go jako typowa baza danych.\n",
    "\n",
    "Może on przechowywać znacznie większe struktury niż memcached, aż do 512MB. Wspiera typy typu listy, zbiory czy nawet typ danych geolokalizacyjnych (geohash).\n",
    "\n",
    "Jednak ma on jedną istotną cechę różniącą go od memcached, ma możliwość zapisania danych na dysku a więc zachowania \"Persistence\" nawet po wyłączeniu komputera.\n",
    "Może osiągnąć to na dwa różne sposoby:\n",
    "\n",
    "- Snapshotting - czyli zapisywanie danych co jakiś określony czas, np. co sekundę lub co 10 sekund, minutę...  Np. dla snapshota co sekundę przy awarii systemu stracimy tylko sekundę danych, przy 10 stracimy 10 sekund itd. Im niższy czas tym oczywiście większy spadek wydajności.\n",
    "- Journaling - Z każdą operacją dodawany jest journal log (zapis operacji) do pliku zooptymalizowanego pod append-only, czyli pod zapis na koniec. Ten tryb pozwala na zapisanie wszystkich danych jednak ma znacznie większy koszt wydajnościowy (koszt zapisu z każdą operacją). Również plik może stać się bardzo duży."
   ]
  }
 ],
 "metadata": {
  "kernelspec": {
   "display_name": "Python 3",
   "language": "python",
   "name": "python3"
  },
  "language_info": {
   "codemirror_mode": {
    "name": "ipython",
    "version": 3
   },
   "file_extension": ".py",
   "mimetype": "text/x-python",
   "name": "python",
   "nbconvert_exporter": "python",
   "pygments_lexer": "ipython3",
   "version": "3.10.6"
  },
  "orig_nbformat": 4,
  "vscode": {
   "interpreter": {
    "hash": "916dbcbb3f70747c44a77c7bcd40155683ae19c65e1c03b4aa3499c5328201f1"
   }
  }
 },
 "nbformat": 4,
 "nbformat_minor": 2
}
